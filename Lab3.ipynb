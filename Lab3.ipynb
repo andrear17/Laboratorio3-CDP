{
 "cells": [
  {
   "cell_type": "markdown",
   "metadata": {},
   "source": [
    "Integrantes:\n",
    "    -Andrea Rivas 16001120\n",
    "    -Daniel Cifuentes \n",
    "\n",
    "   # Laboratorio 3"
   ]
  },
  {
   "cell_type": "markdown",
   "metadata": {},
   "source": [
    "### Ejercicio 1"
   ]
  },
  {
   "cell_type": "code",
   "execution_count": null,
   "metadata": {},
   "outputs": [],
   "source": [
    "try:\n",
    "    total = int(input('Ingrese el total de segundos: '))\n",
    "    #horas = cosiente, minutos = residuo\n",
    "    horas, minutos = divmod(total, 3600)\n",
    "    #minutos = cosiente, segundos = residuo\n",
    "    minutos, segundos = divmod(minutos, 60)\n",
    "    print('Horas: ', horas, ', Minutos: ', minutos, ', Segundos: ', segundos)\n",
    "except(ValueError):\n",
    "    print('No ingreso un valor válido, intente de nuevo')"
   ]
  },
  {
   "cell_type": "markdown",
   "metadata": {},
   "source": [
    "### Ejercicio 2"
   ]
  },
  {
   "cell_type": "code",
   "execution_count": null,
   "metadata": {},
   "outputs": [],
   "source": [
    "#restriccion de num\n",
    "try:\n",
    "    num = int(input(\"Ingrese la cantidad de simbolos: \"))\n",
    "    if 0 < num < 21:\n",
    "        simbolo = input(\"Ingrese el simbolo: \")\n",
    "        aux = ''\n",
    "        for i in range(1, num+1):\n",
    "            #simbolos 1er triangulo\n",
    "            for j in range(i):\n",
    "                aux = aux + simbolo\n",
    "            #espacio para completar 1er rectangulo\n",
    "            for k in range(num-i+1):\n",
    "                aux = aux + ' '\n",
    "            #espacio para completar el 2do rectangulo\n",
    "            for l in range(i-1):\n",
    "                aux = aux + ' '\n",
    "            #agregar el simbolo 2do triangulo\n",
    "            for m in range(num-i+1):\n",
    "                aux = aux + simbolo\n",
    "            #espacio entre 2do y 3er rectangulo\n",
    "            aux = aux + '    '\n",
    "            #agregar simbolo 3er rectangulo\n",
    "            for n in range(i):\n",
    "                aux = aux + simbolo\n",
    "            #espacio para completar el 3er rectangulo\n",
    "            for o in range(num-i+1):\n",
    "                aux = aux + ' '\n",
    "            #espacio para completar el 4to rectangulo\n",
    "            for l in range(i-1):\n",
    "                aux = aux + ' '\n",
    "            #agregar el simbolo 4to rectangulo\n",
    "            for m in range(num-i+1):\n",
    "                aux = aux + simbolo\n",
    "            print(aux)\n",
    "            aux = ''\n",
    "    else:\n",
    "        print('Número no Valido, intete de nuevo')\n",
    "except(ValueError):\n",
    "    print('No ingreso un número, intente de nuevo')"
   ]
  },
  {
   "cell_type": "markdown",
   "metadata": {},
   "source": [
    "### Ejercicio 3"
   ]
  },
  {
   "cell_type": "code",
   "execution_count": 56,
   "metadata": {},
   "outputs": [],
   "source": [
    "from datetime import date\n",
    "\n",
    "#fecha actual\n",
    "cd = date.today()\n",
    "\n",
    "def years(y, m, d):\n",
    "    #verificar si ya paso el cumpleaños\n",
    "    if(m < cd.month or (m == cd.month and d <= cd.day)):\n",
    "        return cd.year - y\n",
    "    else:\n",
    "        return cd.year - y - 1\n",
    "\n",
    "def months(m, d):\n",
    "    #Verificar si ya pasó el mes pero no el día\n",
    "    if((m < cd.month and d >= cd.day)):\n",
    "        return cd.month - m - 1\n",
    "    #verificar si ya pasó el mes y el día ó es el mes de cumple. y ya pasó el día\n",
    "    elif((m < cd.month) or (m == cd.month and d <= cd.day)):\n",
    "        return cd.month - m\n",
    "    #no a pasado el mes\n",
    "    return 12 - m + cd.month - 1\n",
    "\n",
    "#se utilizo 31 días por mes\n",
    "def days(m, d):\n",
    "    #m < cd.month or \n",
    "    if(((m == cd.month or m < cd.month) and d <= cd.day)):\n",
    "        return cd.day - d\n",
    "    return 31 - d + cd.day\n",
    "\n",
    "#main\n",
    "try:\n",
    "    d = int(input('Ingrese el día de su cumpleaños: '))\n",
    "    m = int(input('Ingrese el mes de su cumpleaños: '))\n",
    "    y = int(input('Ingrese el año de su cumpleaños: '))\n",
    "    if((0<d<32) and (0<m<13)):\n",
    "        print('Años:', years(y,m,d), ', Meses:', months(m,d), ', Dias:', days(m,d))\n",
    "    else:\n",
    "        print('No ingresó una fecha valida, intente de nuevo')\n",
    "except(ValueError):\n",
    "    print('No ingreso un número, intente de nuevo')"
   ]
  },
  {
   "cell_type": "markdown",
   "metadata": {},
   "source": [
    "## Parte 2\n",
    "### Ejercicio 1"
   ]
  },
  {
   "cell_type": "code",
   "execution_count": 77,
   "metadata": {},
   "outputs": [
    {
     "name": "stdout",
     "output_type": "stream",
     "text": [
      "Az2040570\n"
     ]
    }
   ],
   "source": [
    "#Ejercicio con tupla definida\n",
    "import re\n",
    "entrada = ('A','z', 20, 40, 5, '.', 70)\n",
    "concatenado = ''\n",
    "for i in entrada:\n",
    "    if(re.match('[a-z A-Z 0-9]', str(i))):\n",
    "        concatenado = concatenado + str(i)\n",
    "print(concatenado)"
   ]
  },
  {
   "cell_type": "code",
   "execution_count": 72,
   "metadata": {},
   "outputs": [
    {
     "name": "stdin",
     "output_type": "stream",
     "text": [
      "Ingrese un # o letra, para terminar ingrese un !:  4\n",
      "Ingrese un # o letra, para terminar ingrese un !:  5\n",
      "Ingrese un # o letra, para terminar ingrese un !:  .\n"
     ]
    },
    {
     "name": "stdout",
     "output_type": "stream",
     "text": [
      "Ingrese solo números o letras \n"
     ]
    },
    {
     "name": "stdin",
     "output_type": "stream",
     "text": [
      "Ingrese un # o letra, para terminar ingrese un !:  p\n",
      "Ingrese un # o letra, para terminar ingrese un !:  E\n",
      "Ingrese un # o letra, para terminar ingrese un !:  !\n"
     ]
    },
    {
     "name": "stdout",
     "output_type": "stream",
     "text": [
      "45pE\n"
     ]
    }
   ],
   "source": [
    "#Ejercicio ingresando tupla\n",
    "import re\n",
    "aux = []\n",
    "i = 0\n",
    "while i == 0:\n",
    "    entrada = input('Ingrese un # o letra, para terminar ingrese un !: ')\n",
    "    if entrada == '!':\n",
    "        i = 1\n",
    "    elif(re.match('[a-z A-Z 0-9]', entrada)):\n",
    "        aux.append(entrada)\n",
    "    else:\n",
    "        print('Ingrese solo números o letras ')\n",
    "#convertir la lista en tupla\n",
    "aux = tuple(aux)\n",
    "concatenado = ''\n",
    "for i in aux:\n",
    "    concatenado = concatenado + str(i)\n",
    "print(concatenado)"
   ]
  },
  {
   "cell_type": "markdown",
   "metadata": {},
   "source": [
    "### Ejerecicio 2"
   ]
  },
  {
   "cell_type": "code",
   "execution_count": 78,
   "metadata": {},
   "outputs": [
    {
     "name": "stdout",
     "output_type": "stream",
     "text": [
      "[('X',), ('a', 'b'), ('a', 'b', 'c'), 'd']\n"
     ]
    }
   ],
   "source": [
    "ejemplo = [(), (), ('X',), ('a', 'b'), ('a', 'b', 'c'), ('d')]\n",
    "resultado = []\n",
    "for i in ejemplo:\n",
    "    if len(i) > 0:\n",
    "        resultado.append(i)\n",
    "print(resultado)"
   ]
  },
  {
   "cell_type": "markdown",
   "metadata": {},
   "source": [
    "### Ejercio 3"
   ]
  },
  {
   "cell_type": "code",
   "execution_count": 96,
   "metadata": {},
   "outputs": [
    {
     "data": {
      "text/plain": [
       "(10.5, 44.0, 58.0)"
      ]
     },
     "execution_count": 96,
     "metadata": {},
     "output_type": "execute_result"
    }
   ],
   "source": [
    "ejemplo = ((10, 10, 10, 12), (30, 45, 56, 45), (81, 80, 39, 32))\n",
    "aux = []\n",
    "for i in ejemplo:\n",
    "    aux.append(sum(i)/len(i))\n",
    "tuple(aux)"
   ]
  }
 ],
 "metadata": {
  "kernelspec": {
   "display_name": "Python 3",
   "language": "python",
   "name": "python3"
  },
  "language_info": {
   "codemirror_mode": {
    "name": "ipython",
    "version": 3
   },
   "file_extension": ".py",
   "mimetype": "text/x-python",
   "name": "python",
   "nbconvert_exporter": "python",
   "pygments_lexer": "ipython3",
   "version": "3.8.5"
  }
 },
 "nbformat": 4,
 "nbformat_minor": 4
}
